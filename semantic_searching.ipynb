{
 "cells": [
  {
   "cell_type": "code",
   "execution_count": 2,
   "id": "1393e104-9db0-4f7d-9fd1-1c1e69fe9f4a",
   "metadata": {},
   "outputs": [
    {
     "name": "stderr",
     "output_type": "stream",
     "text": [
      "/home/gokhan/miniconda3/envs/pytorch-gpu/lib/python3.10/site-packages/tqdm/auto.py:21: TqdmWarning: IProgress not found. Please update jupyter and ipywidgets. See https://ipywidgets.readthedocs.io/en/stable/user_install.html\n",
      "  from .autonotebook import tqdm as notebook_tqdm\n"
     ]
    }
   ],
   "source": [
    "from datasets import load_dataset"
   ]
  },
  {
   "cell_type": "code",
   "execution_count": 3,
   "id": "b4e175b6-392d-4cac-99f4-79c354afef6d",
   "metadata": {},
   "outputs": [
    {
     "name": "stderr",
     "output_type": "stream",
     "text": [
      "Repo card metadata block was not found. Setting CardData to empty.\n"
     ]
    }
   ],
   "source": [
    "issues_dataset = load_dataset(\"lewtun/github-issues\", split = 'train')"
   ]
  },
  {
   "cell_type": "code",
   "execution_count": 4,
   "id": "92a24eaf-b4df-42a2-80c5-250cae175f2b",
   "metadata": {},
   "outputs": [
    {
     "data": {
      "text/plain": [
       "Dataset({\n",
       "    features: ['url', 'repository_url', 'labels_url', 'comments_url', 'events_url', 'html_url', 'id', 'node_id', 'number', 'title', 'user', 'labels', 'state', 'locked', 'assignee', 'assignees', 'milestone', 'comments', 'created_at', 'updated_at', 'closed_at', 'author_association', 'active_lock_reason', 'pull_request', 'body', 'timeline_url', 'performed_via_github_app', 'is_pull_request'],\n",
       "    num_rows: 3019\n",
       "})"
      ]
     },
     "execution_count": 4,
     "metadata": {},
     "output_type": "execute_result"
    }
   ],
   "source": [
    "issues_dataset"
   ]
  },
  {
   "cell_type": "code",
   "execution_count": 5,
   "id": "070fd253-5864-48e7-afd4-4540324ae739",
   "metadata": {},
   "outputs": [
    {
     "data": {
      "text/plain": [
       "{'url': 'https://api.github.com/repos/huggingface/datasets/issues/2955',\n",
       " 'repository_url': 'https://api.github.com/repos/huggingface/datasets',\n",
       " 'labels_url': 'https://api.github.com/repos/huggingface/datasets/issues/2955/labels{/name}',\n",
       " 'comments_url': 'https://api.github.com/repos/huggingface/datasets/issues/2955/comments',\n",
       " 'events_url': 'https://api.github.com/repos/huggingface/datasets/issues/2955/events',\n",
       " 'html_url': 'https://github.com/huggingface/datasets/pull/2955',\n",
       " 'id': 1003999469,\n",
       " 'node_id': 'PR_kwDODunzps4sHuRu',\n",
       " 'number': 2955,\n",
       " 'title': 'Update legacy Python image for CI tests in Linux',\n",
       " 'user': {'login': 'albertvillanova',\n",
       "  'id': 8515462,\n",
       "  'node_id': 'MDQ6VXNlcjg1MTU0NjI=',\n",
       "  'avatar_url': 'https://avatars.githubusercontent.com/u/8515462?v=4',\n",
       "  'gravatar_id': '',\n",
       "  'url': 'https://api.github.com/users/albertvillanova',\n",
       "  'html_url': 'https://github.com/albertvillanova',\n",
       "  'followers_url': 'https://api.github.com/users/albertvillanova/followers',\n",
       "  'following_url': 'https://api.github.com/users/albertvillanova/following{/other_user}',\n",
       "  'gists_url': 'https://api.github.com/users/albertvillanova/gists{/gist_id}',\n",
       "  'starred_url': 'https://api.github.com/users/albertvillanova/starred{/owner}{/repo}',\n",
       "  'subscriptions_url': 'https://api.github.com/users/albertvillanova/subscriptions',\n",
       "  'organizations_url': 'https://api.github.com/users/albertvillanova/orgs',\n",
       "  'repos_url': 'https://api.github.com/users/albertvillanova/repos',\n",
       "  'events_url': 'https://api.github.com/users/albertvillanova/events{/privacy}',\n",
       "  'received_events_url': 'https://api.github.com/users/albertvillanova/received_events',\n",
       "  'type': 'User',\n",
       "  'site_admin': False},\n",
       " 'labels': [],\n",
       " 'state': 'open',\n",
       " 'locked': False,\n",
       " 'assignee': None,\n",
       " 'assignees': [],\n",
       " 'milestone': None,\n",
       " 'comments': [],\n",
       " 'created_at': 1632299127000,\n",
       " 'updated_at': 1632302608000,\n",
       " 'closed_at': None,\n",
       " 'author_association': 'MEMBER',\n",
       " 'active_lock_reason': None,\n",
       " 'pull_request': {'url': 'https://api.github.com/repos/huggingface/datasets/pulls/2955',\n",
       "  'html_url': 'https://github.com/huggingface/datasets/pull/2955',\n",
       "  'diff_url': 'https://github.com/huggingface/datasets/pull/2955.diff',\n",
       "  'patch_url': 'https://github.com/huggingface/datasets/pull/2955.patch'},\n",
       " 'body': 'Instead of legacy, use next-generation convenience images, built from the ground up with CI, efficiency, and determinism in mind. Here are some of the highlights:\\r\\n\\r\\n- Faster spin-up time - In Docker terminology, these next-gen images will generally have fewer and smaller layers. Using these new images will lead to faster image downloads when a build starts, and a higher likelihood that the image is already cached on the host.\\r\\n\\r\\n- Improved reliability and stability - The existing legacy convenience images are rebuilt practically every day with potential changes from upstream that we cannot always test fast enough. This leads to frequent breaking changes, which is not the best environment for stable, deterministic builds. Next-gen images will only be rebuilt for security and critical-bugs, leading to more stable and deterministic images.\\r\\n\\r\\nMore info: https://circleci.com/docs/2.0/circleci-images',\n",
       " 'timeline_url': 'https://api.github.com/repos/huggingface/datasets/issues/2955/timeline',\n",
       " 'performed_via_github_app': None,\n",
       " 'is_pull_request': True}"
      ]
     },
     "execution_count": 5,
     "metadata": {},
     "output_type": "execute_result"
    }
   ],
   "source": [
    "issues_dataset[0]"
   ]
  },
  {
   "cell_type": "code",
   "execution_count": 6,
   "id": "1fc69acb-261e-4a31-ac3d-81aa53b54a6f",
   "metadata": {},
   "outputs": [
    {
     "data": {
      "text/plain": [
       "Dataset({\n",
       "    features: ['url', 'repository_url', 'labels_url', 'comments_url', 'events_url', 'html_url', 'id', 'node_id', 'number', 'title', 'user', 'labels', 'state', 'locked', 'assignee', 'assignees', 'milestone', 'comments', 'created_at', 'updated_at', 'closed_at', 'author_association', 'active_lock_reason', 'pull_request', 'body', 'timeline_url', 'performed_via_github_app', 'is_pull_request'],\n",
       "    num_rows: 808\n",
       "})"
      ]
     },
     "execution_count": 6,
     "metadata": {},
     "output_type": "execute_result"
    }
   ],
   "source": [
    "issues_dataset = issues_dataset.filter(\n",
    "    lambda x : (x['is_pull_request'] == False and len(x['comments']) > 0)\n",
    ")\n",
    "issues_dataset"
   ]
  },
  {
   "cell_type": "code",
   "execution_count": 7,
   "id": "8c271b0e-89c4-4697-be0e-ed927566e9bd",
   "metadata": {},
   "outputs": [],
   "source": [
    "columns = issues_dataset.column_names"
   ]
  },
  {
   "cell_type": "code",
   "execution_count": 8,
   "id": "39a899d1-504b-4fa6-aedb-f609e41bdcd0",
   "metadata": {},
   "outputs": [],
   "source": [
    "columns_we_need = ['title', 'html_url', 'comments','body']"
   ]
  },
  {
   "cell_type": "code",
   "execution_count": 9,
   "id": "f8785fcc-e76b-4fb1-a777-03ab2bee0f56",
   "metadata": {},
   "outputs": [],
   "source": [
    "columns_we_dont_need = set(columns_we_need).symmetric_difference(columns)"
   ]
  },
  {
   "cell_type": "code",
   "execution_count": 10,
   "id": "64b15cd2-9877-45a8-9da7-e05727457077",
   "metadata": {},
   "outputs": [],
   "source": [
    "issues_dataset = issues_dataset.remove_columns(columns_we_dont_need)"
   ]
  },
  {
   "cell_type": "code",
   "execution_count": 11,
   "id": "e83ce43e-0560-4d74-8f5d-a3a093d9b2be",
   "metadata": {},
   "outputs": [
    {
     "data": {
      "text/plain": [
       "Dataset({\n",
       "    features: ['html_url', 'title', 'comments', 'body'],\n",
       "    num_rows: 808\n",
       "})"
      ]
     },
     "execution_count": 11,
     "metadata": {},
     "output_type": "execute_result"
    }
   ],
   "source": [
    "issues_dataset"
   ]
  },
  {
   "cell_type": "code",
   "execution_count": 12,
   "id": "4ca5ead7-1fae-4530-adef-3bea88e26514",
   "metadata": {},
   "outputs": [
    {
     "data": {
      "text/plain": [
       "{'html_url': 'https://github.com/huggingface/datasets/issues/2945',\n",
       " 'title': 'Protect master branch',\n",
       " 'comments': ['Cool, I think we can do both :)',\n",
       "  '@lhoestq now the 2 are implemented.\\r\\n\\r\\nPlease note that for the the second protection, finally I have chosen to protect the master branch only from **merge commits** (see update comment above), so no need to disable/re-enable the protection on each release (direct commits, different from merge commits, can be pushed to the remote master branch; and eventually reverted without messing up the repo history).'],\n",
       " 'body': 'After accidental merge commit (91c55355b634d0dc73350a7ddee1a6776dbbdd69) into `datasets` master branch, all commits present in the feature branch were permanently added to `datasets` master branch history, as e.g.:\\r\\n- 00cc036fea7c7745cfe722360036ed306796a3f2\\r\\n- 13ae8c98602bbad8197de3b9b425f4c78f582af1\\r\\n- ...\\r\\n\\r\\nI propose to protect our master branch, so that we avoid we can accidentally make this kind of mistakes in the future:\\r\\n- [x] For Pull Requests using GitHub, allow only squash merging, so that only a single commit per Pull Request is merged into the master branch\\r\\n  - Currently, simple merge commits are already disabled\\r\\n  - I propose to disable rebase merging as well\\r\\n- ~~Protect the master branch from direct pushes (to avoid accidentally pushing of merge commits)~~\\r\\n  - ~~This protection would reject direct pushes to master branch~~\\r\\n  - ~~If so, for each release (when we need to commit directly to the master branch), we should previously disable the protection and re-enable it again after the release~~\\r\\n- [x] Protect the master branch only from direct pushing of **merge commits**\\r\\n  - GitHub offers the possibility to protect the master branch only from merge commits (which are the ones that introduce all the commits from the feature branch into the master branch).\\r\\n  - No need to disable/re-enable this protection on each release \\r\\n\\r\\nThis purpose of this Issue is to open a discussion about this problem and to agree in a solution.'}"
      ]
     },
     "execution_count": 12,
     "metadata": {},
     "output_type": "execute_result"
    }
   ],
   "source": [
    "issues_dataset[0] # as you see the comments column contain list so it is better if we saparat it so we will use expore with pandas"
   ]
  },
  {
   "cell_type": "code",
   "execution_count": 13,
   "id": "ba518bf9-142d-4f25-88f6-bfefd8b78b6a",
   "metadata": {},
   "outputs": [],
   "source": [
    "issues_dataset.set_format('pandas')\n",
    "df = issues_dataset[:]"
   ]
  },
  {
   "cell_type": "code",
   "execution_count": 14,
   "id": "963a77dd-625c-430b-b968-b8ffa912ba60",
   "metadata": {},
   "outputs": [],
   "source": [
    "comments_df = df.explode('comments', ignore_index=True)"
   ]
  },
  {
   "cell_type": "code",
   "execution_count": 15,
   "id": "b3f913d9-06cf-4143-afa7-afde9c9a473c",
   "metadata": {},
   "outputs": [
    {
     "data": {
      "text/html": [
       "<div>\n",
       "<style scoped>\n",
       "    .dataframe tbody tr th:only-of-type {\n",
       "        vertical-align: middle;\n",
       "    }\n",
       "\n",
       "    .dataframe tbody tr th {\n",
       "        vertical-align: top;\n",
       "    }\n",
       "\n",
       "    .dataframe thead th {\n",
       "        text-align: right;\n",
       "    }\n",
       "</style>\n",
       "<table border=\"1\" class=\"dataframe\">\n",
       "  <thead>\n",
       "    <tr style=\"text-align: right;\">\n",
       "      <th></th>\n",
       "      <th>html_url</th>\n",
       "      <th>title</th>\n",
       "      <th>comments</th>\n",
       "      <th>body</th>\n",
       "    </tr>\n",
       "  </thead>\n",
       "  <tbody>\n",
       "    <tr>\n",
       "      <th>0</th>\n",
       "      <td>https://github.com/huggingface/datasets/issues...</td>\n",
       "      <td>Protect master branch</td>\n",
       "      <td>Cool, I think we can do both :)</td>\n",
       "      <td>After accidental merge commit (91c55355b634d0d...</td>\n",
       "    </tr>\n",
       "    <tr>\n",
       "      <th>1</th>\n",
       "      <td>https://github.com/huggingface/datasets/issues...</td>\n",
       "      <td>Protect master branch</td>\n",
       "      <td>@lhoestq now the 2 are implemented.\\r\\n\\r\\nPle...</td>\n",
       "      <td>After accidental merge commit (91c55355b634d0d...</td>\n",
       "    </tr>\n",
       "    <tr>\n",
       "      <th>2</th>\n",
       "      <td>https://github.com/huggingface/datasets/issues...</td>\n",
       "      <td>Backwards compatibility broken for cached data...</td>\n",
       "      <td>Hi ! I guess the caching mechanism should have...</td>\n",
       "      <td>## Describe the bug\\r\\nAfter upgrading to data...</td>\n",
       "    </tr>\n",
       "    <tr>\n",
       "      <th>3</th>\n",
       "      <td>https://github.com/huggingface/datasets/issues...</td>\n",
       "      <td>Backwards compatibility broken for cached data...</td>\n",
       "      <td>If it's easy enough to implement, then yes ple...</td>\n",
       "      <td>## Describe the bug\\r\\nAfter upgrading to data...</td>\n",
       "    </tr>\n",
       "    <tr>\n",
       "      <th>4</th>\n",
       "      <td>https://github.com/huggingface/datasets/issues...</td>\n",
       "      <td>Backwards compatibility broken for cached data...</td>\n",
       "      <td>Well it can cause issue with anyone that updat...</td>\n",
       "      <td>## Describe the bug\\r\\nAfter upgrading to data...</td>\n",
       "    </tr>\n",
       "  </tbody>\n",
       "</table>\n",
       "</div>"
      ],
      "text/plain": [
       "                                            html_url  \\\n",
       "0  https://github.com/huggingface/datasets/issues...   \n",
       "1  https://github.com/huggingface/datasets/issues...   \n",
       "2  https://github.com/huggingface/datasets/issues...   \n",
       "3  https://github.com/huggingface/datasets/issues...   \n",
       "4  https://github.com/huggingface/datasets/issues...   \n",
       "\n",
       "                                               title  \\\n",
       "0                              Protect master branch   \n",
       "1                              Protect master branch   \n",
       "2  Backwards compatibility broken for cached data...   \n",
       "3  Backwards compatibility broken for cached data...   \n",
       "4  Backwards compatibility broken for cached data...   \n",
       "\n",
       "                                            comments  \\\n",
       "0                    Cool, I think we can do both :)   \n",
       "1  @lhoestq now the 2 are implemented.\\r\\n\\r\\nPle...   \n",
       "2  Hi ! I guess the caching mechanism should have...   \n",
       "3  If it's easy enough to implement, then yes ple...   \n",
       "4  Well it can cause issue with anyone that updat...   \n",
       "\n",
       "                                                body  \n",
       "0  After accidental merge commit (91c55355b634d0d...  \n",
       "1  After accidental merge commit (91c55355b634d0d...  \n",
       "2  ## Describe the bug\\r\\nAfter upgrading to data...  \n",
       "3  ## Describe the bug\\r\\nAfter upgrading to data...  \n",
       "4  ## Describe the bug\\r\\nAfter upgrading to data...  "
      ]
     },
     "execution_count": 15,
     "metadata": {},
     "output_type": "execute_result"
    }
   ],
   "source": [
    "comments_df.head(5)"
   ]
  },
  {
   "cell_type": "code",
   "execution_count": 16,
   "id": "ba5a2b76-9331-4b2c-ba4d-dfa5cb1b8a77",
   "metadata": {},
   "outputs": [],
   "source": [
    "from datasets import Dataset\n",
    "ds = Dataset.from_pandas(comments_df)"
   ]
  },
  {
   "cell_type": "code",
   "execution_count": 17,
   "id": "393161f9-bebe-4744-8ade-6341377e61f9",
   "metadata": {},
   "outputs": [
    {
     "data": {
      "text/plain": [
       "Dataset({\n",
       "    features: ['html_url', 'title', 'comments', 'body'],\n",
       "    num_rows: 2964\n",
       "})"
      ]
     },
     "execution_count": 17,
     "metadata": {},
     "output_type": "execute_result"
    }
   ],
   "source": [
    "ds"
   ]
  },
  {
   "cell_type": "code",
   "execution_count": 18,
   "id": "cf31b75e-3143-4f89-afdc-b1ba00723ffb",
   "metadata": {},
   "outputs": [
    {
     "name": "stderr",
     "output_type": "stream",
     "text": [
      "Map: 100%|████████████████████████████████████████████████████████████████| 2964/2964 [00:00<00:00, 34607.99 examples/s]\n"
     ]
    }
   ],
   "source": [
    "ds = ds.map(\n",
    "    lambda x : {\"comments_length\" : len(x['comments'].split())}\n",
    ")"
   ]
  },
  {
   "cell_type": "code",
   "execution_count": 19,
   "id": "3477e622-8c87-45c4-a89e-1e9043745573",
   "metadata": {},
   "outputs": [
    {
     "name": "stderr",
     "output_type": "stream",
     "text": [
      "Filter: 100%|████████████████████████████████████████████████████████████| 2964/2964 [00:00<00:00, 177835.08 examples/s]\n"
     ]
    }
   ],
   "source": [
    "ds_filter = ds.filter(\n",
    "    lambda x : (x['comments_length']>15)\n",
    ")"
   ]
  },
  {
   "cell_type": "code",
   "execution_count": 20,
   "id": "0a7c3c68-680c-43c0-a91a-b27243f27731",
   "metadata": {},
   "outputs": [
    {
     "data": {
      "text/plain": [
       "Dataset({\n",
       "    features: ['html_url', 'title', 'comments', 'body', 'comments_length'],\n",
       "    num_rows: 2175\n",
       "})"
      ]
     },
     "execution_count": 20,
     "metadata": {},
     "output_type": "execute_result"
    }
   ],
   "source": [
    "ds_filter"
   ]
  },
  {
   "cell_type": "code",
   "execution_count": 21,
   "id": "b2bb6760-6630-4e4b-926f-5bf0bc3a6842",
   "metadata": {},
   "outputs": [
    {
     "name": "stderr",
     "output_type": "stream",
     "text": [
      "Map: 100%|████████████████████████████████████████████████████████████████| 2175/2175 [00:00<00:00, 15948.29 examples/s]\n"
     ]
    }
   ],
   "source": [
    "def concate_text(simple):\n",
    "    return {\"text\" :  simple['title'] + \" \\n \" + simple['body'] + \" \\n \" + simple['comments']}\n",
    "comments_dataset = ds_filter.map(concate_text)"
   ]
  },
  {
   "cell_type": "code",
   "execution_count": 22,
   "id": "56e9fb9a-c6cc-49da-a819-1d300200f75c",
   "metadata": {},
   "outputs": [
    {
     "data": {
      "text/plain": [
       "'Protect master branch \\n After accidental merge commit (91c55355b634d0dc73350a7ddee1a6776dbbdd69) into `datasets` master branch, all commits present in the feature branch were permanently added to `datasets` master branch history, as e.g.:\\r\\n- 00cc036fea7c7745cfe722360036ed306796a3f2\\r\\n- 13ae8c98602bbad8197de3b9b425f4c78f582af1\\r\\n- ...\\r\\n\\r\\nI propose to protect our master branch, so that we avoid we can accidentally make this kind of mistakes in the future:\\r\\n- [x] For Pull Requests using GitHub, allow only squash merging, so that only a single commit per Pull Request is merged into the master branch\\r\\n  - Currently, simple merge commits are already disabled\\r\\n  - I propose to disable rebase merging as well\\r\\n- ~~Protect the master branch from direct pushes (to avoid accidentally pushing of merge commits)~~\\r\\n  - ~~This protection would reject direct pushes to master branch~~\\r\\n  - ~~If so, for each release (when we need to commit directly to the master branch), we should previously disable the protection and re-enable it again after the release~~\\r\\n- [x] Protect the master branch only from direct pushing of **merge commits**\\r\\n  - GitHub offers the possibility to protect the master branch only from merge commits (which are the ones that introduce all the commits from the feature branch into the master branch).\\r\\n  - No need to disable/re-enable this protection on each release \\r\\n\\r\\nThis purpose of this Issue is to open a discussion about this problem and to agree in a solution. \\n @lhoestq now the 2 are implemented.\\r\\n\\r\\nPlease note that for the the second protection, finally I have chosen to protect the master branch only from **merge commits** (see update comment above), so no need to disable/re-enable the protection on each release (direct commits, different from merge commits, can be pushed to the remote master branch; and eventually reverted without messing up the repo history).'"
      ]
     },
     "execution_count": 22,
     "metadata": {},
     "output_type": "execute_result"
    }
   ],
   "source": [
    "comments_dataset['text'][0]"
   ]
  },
  {
   "cell_type": "code",
   "execution_count": 23,
   "id": "84ccdcf5-fd0c-4739-bbcc-cb40319ab05f",
   "metadata": {},
   "outputs": [],
   "source": [
    "from transformers import AutoModel, AutoTokenizer"
   ]
  },
  {
   "cell_type": "code",
   "execution_count": 24,
   "id": "338c164f-ccb8-455a-811e-9fb77ae2e535",
   "metadata": {},
   "outputs": [
    {
     "data": {
      "text/plain": [
       "True"
      ]
     },
     "execution_count": 24,
     "metadata": {},
     "output_type": "execute_result"
    }
   ],
   "source": [
    "import torch \n",
    "torch.cuda.is_available()"
   ]
  },
  {
   "cell_type": "code",
   "execution_count": 25,
   "id": "4774b566-3846-4b11-a36c-ca278eff7216",
   "metadata": {},
   "outputs": [],
   "source": [
    "model_checkpoint = \"sentence-transformers/multi-qa-mpnet-base-dot-v1\""
   ]
  },
  {
   "cell_type": "code",
   "execution_count": 26,
   "id": "6fd00c0a-2204-4d65-a74e-208c103fb0b2",
   "metadata": {},
   "outputs": [],
   "source": [
    "tokenizer = AutoTokenizer.from_pretrained(model_checkpoint)"
   ]
  },
  {
   "cell_type": "code",
   "execution_count": 27,
   "id": "f83d641e-96b6-4771-89ec-76f0e64ab5ed",
   "metadata": {},
   "outputs": [],
   "source": [
    "model = AutoModel.from_pretrained(model_checkpoint)"
   ]
  },
  {
   "cell_type": "code",
   "execution_count": 28,
   "id": "cfee4430-4692-4ff1-b7a4-31a7a37c0ef6",
   "metadata": {},
   "outputs": [],
   "source": [
    "device = torch.device('cuda')"
   ]
  },
  {
   "cell_type": "code",
   "execution_count": 29,
   "id": "53b5845f-fa86-41f4-87fe-35bbde3ea6ce",
   "metadata": {},
   "outputs": [
    {
     "data": {
      "text/plain": [
       "MPNetModel(\n",
       "  (embeddings): MPNetEmbeddings(\n",
       "    (word_embeddings): Embedding(30527, 768, padding_idx=1)\n",
       "    (position_embeddings): Embedding(514, 768, padding_idx=1)\n",
       "    (LayerNorm): LayerNorm((768,), eps=1e-05, elementwise_affine=True)\n",
       "    (dropout): Dropout(p=0.1, inplace=False)\n",
       "  )\n",
       "  (encoder): MPNetEncoder(\n",
       "    (layer): ModuleList(\n",
       "      (0-11): 12 x MPNetLayer(\n",
       "        (attention): MPNetAttention(\n",
       "          (attn): MPNetSelfAttention(\n",
       "            (q): Linear(in_features=768, out_features=768, bias=True)\n",
       "            (k): Linear(in_features=768, out_features=768, bias=True)\n",
       "            (v): Linear(in_features=768, out_features=768, bias=True)\n",
       "            (o): Linear(in_features=768, out_features=768, bias=True)\n",
       "            (dropout): Dropout(p=0.1, inplace=False)\n",
       "          )\n",
       "          (LayerNorm): LayerNorm((768,), eps=1e-05, elementwise_affine=True)\n",
       "          (dropout): Dropout(p=0.1, inplace=False)\n",
       "        )\n",
       "        (intermediate): MPNetIntermediate(\n",
       "          (dense): Linear(in_features=768, out_features=3072, bias=True)\n",
       "          (intermediate_act_fn): GELUActivation()\n",
       "        )\n",
       "        (output): MPNetOutput(\n",
       "          (dense): Linear(in_features=3072, out_features=768, bias=True)\n",
       "          (LayerNorm): LayerNorm((768,), eps=1e-05, elementwise_affine=True)\n",
       "          (dropout): Dropout(p=0.1, inplace=False)\n",
       "        )\n",
       "      )\n",
       "    )\n",
       "    (relative_attention_bias): Embedding(32, 12)\n",
       "  )\n",
       "  (pooler): MPNetPooler(\n",
       "    (dense): Linear(in_features=768, out_features=768, bias=True)\n",
       "    (activation): Tanh()\n",
       "  )\n",
       ")"
      ]
     },
     "execution_count": 29,
     "metadata": {},
     "output_type": "execute_result"
    }
   ],
   "source": [
    "model.to(device)"
   ]
  },
  {
   "cell_type": "code",
   "execution_count": 30,
   "id": "ff0d0535-34f8-48fb-851b-a090e8fe2bde",
   "metadata": {},
   "outputs": [],
   "source": [
    "def cls_pooling(model_output):\n",
    "    return model_output.last_hidden_state[:,0]\n",
    "    #in here we take the cls because according to self-attention cls contain a summary of all sentence."
   ]
  },
  {
   "cell_type": "code",
   "execution_count": 31,
   "id": "a1853a38-162a-43fa-b3f8-3ab0ab887fb6",
   "metadata": {},
   "outputs": [],
   "source": [
    "def get_embeddings(text_list):\n",
    "    encoded_input = tokenizer(\n",
    "        text_list, padding=True, truncation=True, return_tensors=\"pt\"\n",
    "    )\n",
    "    encoded_input = {k: v.to(device) for k, v in encoded_input.items()}\n",
    "    model_output = model(**encoded_input)\n",
    "    return cls_pooling(model_output)"
   ]
  },
  {
   "cell_type": "code",
   "execution_count": 32,
   "id": "18e040c4-eb69-45e0-84be-231b6c974530",
   "metadata": {},
   "outputs": [],
   "source": [
    "emdeding_sentence = get_embeddings(comments_dataset['text'][0])"
   ]
  },
  {
   "cell_type": "code",
   "execution_count": 33,
   "id": "c4bb7814-3770-45d4-a2bc-0bdbc2ec79dc",
   "metadata": {},
   "outputs": [
    {
     "data": {
      "text/plain": [
       "torch.Size([1, 768])"
      ]
     },
     "execution_count": 33,
     "metadata": {},
     "output_type": "execute_result"
    }
   ],
   "source": [
    "emdeding_sentence.shape"
   ]
  },
  {
   "cell_type": "code",
   "execution_count": 34,
   "id": "546b6ffd-4b76-4941-91b0-8ca12628506b",
   "metadata": {},
   "outputs": [
    {
     "name": "stderr",
     "output_type": "stream",
     "text": [
      "Map: 100%|███████████████████████████████████████████████████████████████████| 2175/2175 [01:21<00:00, 26.83 examples/s]\n"
     ]
    }
   ],
   "source": [
    "embedding_dataset = comments_dataset.map(\n",
    "    lambda x : {'embedding' : get_embeddings(x['text']).detach().cpu().numpy()[0]}\n",
    ")"
   ]
  },
  {
   "cell_type": "code",
   "execution_count": 35,
   "id": "4880f740-c9de-443c-8ad3-10764ff7e9ab",
   "metadata": {},
   "outputs": [
    {
     "data": {
      "text/plain": [
       "768"
      ]
     },
     "execution_count": 35,
     "metadata": {},
     "output_type": "execute_result"
    }
   ],
   "source": [
    "len(embedding_dataset['embedding'][0])"
   ]
  },
  {
   "cell_type": "code",
   "execution_count": 36,
   "id": "5540195e-044b-4817-a01f-1ca0dd3ce6a1",
   "metadata": {},
   "outputs": [
    {
     "name": "stderr",
     "output_type": "stream",
     "text": [
      "100%|████████████████████████████████████████████████████████████████████████████████████| 3/3 [00:00<00:00, 603.21it/s]\n"
     ]
    },
    {
     "data": {
      "text/plain": [
       "Dataset({\n",
       "    features: ['html_url', 'title', 'comments', 'body', 'comments_length', 'text', 'embedding'],\n",
       "    num_rows: 2175\n",
       "})"
      ]
     },
     "execution_count": 36,
     "metadata": {},
     "output_type": "execute_result"
    }
   ],
   "source": [
    "embedding_dataset.add_faiss_index(column='embedding')"
   ]
  },
  {
   "cell_type": "code",
   "execution_count": 37,
   "id": "4a4a4d1c-38c7-4d42-b00f-42dcb46f844c",
   "metadata": {},
   "outputs": [
    {
     "data": {
      "text/plain": [
       "(1, 768)"
      ]
     },
     "execution_count": 37,
     "metadata": {},
     "output_type": "execute_result"
    }
   ],
   "source": [
    "question = \"How can I load a dataset offline?\"\n",
    "question_embedding = get_embeddings([question]).cpu().detach().numpy()\n",
    "question_embedding.shape"
   ]
  },
  {
   "cell_type": "code",
   "execution_count": 41,
   "id": "a0715960-5fba-4373-955e-9a8ff886b6f8",
   "metadata": {},
   "outputs": [],
   "source": [
    "score, sample =  embedding_dataset.get_nearest_examples(index_name='embedding',query=question_embedding, k=5)"
   ]
  },
  {
   "cell_type": "code",
   "execution_count": 45,
   "id": "a508f7b0-c98b-4f23-818c-2a836afcd336",
   "metadata": {},
   "outputs": [],
   "source": [
    "import pandas as pd"
   ]
  },
  {
   "cell_type": "code",
   "execution_count": 46,
   "id": "04757f5b-3c75-40a2-b236-ae8a33b7b1fe",
   "metadata": {},
   "outputs": [],
   "source": [
    "df = pd.DataFrame.from_dict(sample) "
   ]
  },
  {
   "cell_type": "code",
   "execution_count": 51,
   "id": "dea3e1ce-efe3-470a-8315-4e559e01d78f",
   "metadata": {},
   "outputs": [],
   "source": [
    "df[\"scores\"] = score\n",
    "df.sort_values(\"scores\", ascending=False, inplace=True)"
   ]
  },
  {
   "cell_type": "code",
   "execution_count": 62,
   "id": "7ae57c6b-f343-4480-affc-0ea2e62f1338",
   "metadata": {},
   "outputs": [],
   "source": [
    "def git_search(query):\n",
    "    query_emb = get_embeddings([query]).cpu().detach().numpy()\n",
    "    score, sample = embedding_dataset.get_nearest_examples(k= 5, index_name='embedding', query=query_emb)\n",
    "    df = pd.DataFrame.from_dict(sample)\n",
    "    df['scores'] = score \n",
    "    df.sort_values('scores', ascending = False, inplace = True)\n",
    "    df.reset_index(inplace=True)\n",
    "    return df"
   ]
  },
  {
   "cell_type": "code",
   "execution_count": 63,
   "id": "5f9f3128-c684-4fb5-95f4-1a861b900bcc",
   "metadata": {},
   "outputs": [
    {
     "data": {
      "text/html": [
       "<div>\n",
       "<style scoped>\n",
       "    .dataframe tbody tr th:only-of-type {\n",
       "        vertical-align: middle;\n",
       "    }\n",
       "\n",
       "    .dataframe tbody tr th {\n",
       "        vertical-align: top;\n",
       "    }\n",
       "\n",
       "    .dataframe thead th {\n",
       "        text-align: right;\n",
       "    }\n",
       "</style>\n",
       "<table border=\"1\" class=\"dataframe\">\n",
       "  <thead>\n",
       "    <tr style=\"text-align: right;\">\n",
       "      <th></th>\n",
       "      <th>index</th>\n",
       "      <th>html_url</th>\n",
       "      <th>title</th>\n",
       "      <th>comments</th>\n",
       "      <th>body</th>\n",
       "      <th>comments_length</th>\n",
       "      <th>text</th>\n",
       "      <th>embedding</th>\n",
       "      <th>scores</th>\n",
       "    </tr>\n",
       "  </thead>\n",
       "  <tbody>\n",
       "    <tr>\n",
       "      <th>0</th>\n",
       "      <td>4</td>\n",
       "      <td>https://github.com/huggingface/datasets/issues...</td>\n",
       "      <td>TypeError: 'NoneType' object is not callable</td>\n",
       "      <td>&gt; * For the platform, we need to know the oper...</td>\n",
       "      <td>## Describe the bug\\r\\n\\r\\nTypeError: 'NoneTyp...</td>\n",
       "      <td>154</td>\n",
       "      <td>TypeError: 'NoneType' object is not callable \\...</td>\n",
       "      <td>[-0.23339280486106873, -0.21219104528427124, 0...</td>\n",
       "      <td>31.064016</td>\n",
       "    </tr>\n",
       "    <tr>\n",
       "      <th>1</th>\n",
       "      <td>2</td>\n",
       "      <td>https://github.com/huggingface/datasets/issues...</td>\n",
       "      <td>TypeError: 'NoneType' object is not callable</td>\n",
       "      <td>One naive question: do you have internet acces...</td>\n",
       "      <td>## Describe the bug\\r\\n\\r\\nTypeError: 'NoneTyp...</td>\n",
       "      <td>16</td>\n",
       "      <td>TypeError: 'NoneType' object is not callable \\...</td>\n",
       "      <td>[-0.24667498469352722, -0.2166071981191635, -0...</td>\n",
       "      <td>30.874662</td>\n",
       "    </tr>\n",
       "    <tr>\n",
       "      <th>2</th>\n",
       "      <td>3</td>\n",
       "      <td>https://github.com/huggingface/datasets/issues...</td>\n",
       "      <td>TypeError: 'NoneType' object is not callable</td>\n",
       "      <td>One naive question: do you have internet acces...</td>\n",
       "      <td>## Describe the bug\\r\\n\\r\\nTypeError: 'NoneTyp...</td>\n",
       "      <td>16</td>\n",
       "      <td>TypeError: 'NoneType' object is not callable \\...</td>\n",
       "      <td>[-0.24667498469352722, -0.2166071981191635, -0...</td>\n",
       "      <td>30.874662</td>\n",
       "    </tr>\n",
       "    <tr>\n",
       "      <th>3</th>\n",
       "      <td>0</td>\n",
       "      <td>https://github.com/huggingface/datasets/issues...</td>\n",
       "      <td>TypeError: 'NoneType' object is not callable</td>\n",
       "      <td>- For the platform, we need to know the operat...</td>\n",
       "      <td>## Describe the bug\\r\\n\\r\\nTypeError: 'NoneTyp...</td>\n",
       "      <td>69</td>\n",
       "      <td>TypeError: 'NoneType' object is not callable \\...</td>\n",
       "      <td>[-0.2277713567018509, -0.31935057044029236, 0....</td>\n",
       "      <td>28.649061</td>\n",
       "    </tr>\n",
       "    <tr>\n",
       "      <th>4</th>\n",
       "      <td>1</td>\n",
       "      <td>https://github.com/huggingface/datasets/issues...</td>\n",
       "      <td>TypeError: 'NoneType' object is not callable</td>\n",
       "      <td>- For the platform, we need to know the operat...</td>\n",
       "      <td>## Describe the bug\\r\\n\\r\\nTypeError: 'NoneTyp...</td>\n",
       "      <td>69</td>\n",
       "      <td>TypeError: 'NoneType' object is not callable \\...</td>\n",
       "      <td>[-0.2277713567018509, -0.31935057044029236, 0....</td>\n",
       "      <td>28.649061</td>\n",
       "    </tr>\n",
       "  </tbody>\n",
       "</table>\n",
       "</div>"
      ],
      "text/plain": [
       "   index                                           html_url  \\\n",
       "0      4  https://github.com/huggingface/datasets/issues...   \n",
       "1      2  https://github.com/huggingface/datasets/issues...   \n",
       "2      3  https://github.com/huggingface/datasets/issues...   \n",
       "3      0  https://github.com/huggingface/datasets/issues...   \n",
       "4      1  https://github.com/huggingface/datasets/issues...   \n",
       "\n",
       "                                          title  \\\n",
       "0  TypeError: 'NoneType' object is not callable   \n",
       "1  TypeError: 'NoneType' object is not callable   \n",
       "2  TypeError: 'NoneType' object is not callable   \n",
       "3  TypeError: 'NoneType' object is not callable   \n",
       "4  TypeError: 'NoneType' object is not callable   \n",
       "\n",
       "                                            comments  \\\n",
       "0  > * For the platform, we need to know the oper...   \n",
       "1  One naive question: do you have internet acces...   \n",
       "2  One naive question: do you have internet acces...   \n",
       "3  - For the platform, we need to know the operat...   \n",
       "4  - For the platform, we need to know the operat...   \n",
       "\n",
       "                                                body  comments_length  \\\n",
       "0  ## Describe the bug\\r\\n\\r\\nTypeError: 'NoneTyp...              154   \n",
       "1  ## Describe the bug\\r\\n\\r\\nTypeError: 'NoneTyp...               16   \n",
       "2  ## Describe the bug\\r\\n\\r\\nTypeError: 'NoneTyp...               16   \n",
       "3  ## Describe the bug\\r\\n\\r\\nTypeError: 'NoneTyp...               69   \n",
       "4  ## Describe the bug\\r\\n\\r\\nTypeError: 'NoneTyp...               69   \n",
       "\n",
       "                                                text  \\\n",
       "0  TypeError: 'NoneType' object is not callable \\...   \n",
       "1  TypeError: 'NoneType' object is not callable \\...   \n",
       "2  TypeError: 'NoneType' object is not callable \\...   \n",
       "3  TypeError: 'NoneType' object is not callable \\...   \n",
       "4  TypeError: 'NoneType' object is not callable \\...   \n",
       "\n",
       "                                           embedding     scores  \n",
       "0  [-0.23339280486106873, -0.21219104528427124, 0...  31.064016  \n",
       "1  [-0.24667498469352722, -0.2166071981191635, -0...  30.874662  \n",
       "2  [-0.24667498469352722, -0.2166071981191635, -0...  30.874662  \n",
       "3  [-0.2277713567018509, -0.31935057044029236, 0....  28.649061  \n",
       "4  [-0.2277713567018509, -0.31935057044029236, 0....  28.649061  "
      ]
     },
     "execution_count": 63,
     "metadata": {},
     "output_type": "execute_result"
    }
   ],
   "source": [
    "git_search(\"how can i solve type error\")"
   ]
  },
  {
   "cell_type": "code",
   "execution_count": null,
   "id": "8be6533a-07af-4898-8a78-37dff811afde",
   "metadata": {},
   "outputs": [],
   "source": []
  }
 ],
 "metadata": {
  "kernelspec": {
   "display_name": "PyTorch (GPU)",
   "language": "python",
   "name": "pytorch-gpu"
  },
  "language_info": {
   "codemirror_mode": {
    "name": "ipython",
    "version": 3
   },
   "file_extension": ".py",
   "mimetype": "text/x-python",
   "name": "python",
   "nbconvert_exporter": "python",
   "pygments_lexer": "ipython3",
   "version": "3.10.18"
  }
 },
 "nbformat": 4,
 "nbformat_minor": 5
}
